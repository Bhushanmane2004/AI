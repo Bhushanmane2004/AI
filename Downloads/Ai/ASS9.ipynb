{
  "nbformat": 4,
  "nbformat_minor": 0,
  "metadata": {
    "colab": {
      "provenance": []
    },
    "kernelspec": {
      "name": "python3",
      "display_name": "Python 3"
    },
    "language_info": {
      "name": "python"
    }
  },
  "cells": [
    {
      "cell_type": "code",
      "source": [
        "from fuzzywuzzy import fuzz\n",
        "from fuzzywuzzy import process\n",
        "\n",
        "# Predefined responses for the chatbot\n",
        "responses = {\n",
        "    \"hello\": \"Hello! How can I assist you today?\",\n",
        "    \"order status\": \"To check your order status, please visit the 'My Orders' section.\",\n",
        "    \"return policy\": \"You can return products within 30 days of delivery. Visit our 'Returns' page for more details.\",\n",
        "    \"payment methods\": \"We accept Credit/Debit Cards, PayPal, UPI, and Net Banking.\",\n",
        "    \"contact support\": \"You can contact our support team at support@example.com or call us at 1800-123-4567.\",\n",
        "    \"default\": \"I'm sorry, I didn't understand that. Could you please rephrase?\"\n",
        "}\n",
        "\n",
        "def chatbot_response(user_message):\n",
        "    \"\"\"\n",
        "    Function to get a response for the user's message.\n",
        "    \"\"\"\n",
        "    user_message = user_message.lower().strip()  # Normalize input\n",
        "    best_match, match_score = process.extractOne(user_message, responses.keys(), scorer=fuzz.token_sort_ratio)\n",
        "\n",
        "    # Threshold for determining whether the match is good enough\n",
        "    threshold = 60  # Adjust as needed\n",
        "\n",
        "    if match_score >= threshold:\n",
        "        return responses.get(best_match)\n",
        "    else:\n",
        "        return responses[\"default\"]\n",
        "\n",
        "def run_chatbot():\n",
        "    \"\"\"\n",
        "    Function to run the chatbot in the terminal.\n",
        "    \"\"\"\n",
        "    print(\"Chatbot: Hello! I'm here to assist you. Type 'exit' to quit.\")\n",
        "\n",
        "    while True:\n",
        "        user_input = input(\"You: \")\n",
        "        if user_input.lower() == \"exit\":\n",
        "            print(\"Chatbot: Goodbye!\")\n",
        "            break\n",
        "        response = chatbot_response(user_input)\n",
        "        print(f\"Chatbot: {response}\")\n",
        "\n",
        "# Run the chatbot\n",
        "run_chatbot()\n"
      ],
      "metadata": {
        "colab": {
          "base_uri": "https://localhost:8080/"
        },
        "id": "zkikGM_oFFLl",
        "outputId": "c90c81ad-bd8e-4eaf-f1f3-1b10cd12e7e7"
      },
      "execution_count": null,
      "outputs": [
        {
          "output_type": "stream",
          "name": "stdout",
          "text": [
            "Chatbot: Hello! I'm here to assist you. Type 'exit' to quit.\n",
            "You: hello\n",
            "Chatbot: Hello! How can I assist you today?\n",
            "You: What is you return policy\n",
            "Chatbot: You can return products within 30 days of delivery. Visit our 'Returns' page for more details.\n",
            "You: you support \n",
            "Chatbot: I'm sorry, I didn't understand that. Could you please rephrase?\n",
            "You: your contact support number\n",
            "Chatbot: You can contact our support team at support@example.com or call us at 1800-123-4567.\n"
          ]
        }
      ]
    },
    {
      "cell_type": "code",
      "source": [],
      "metadata": {
        "id": "xLfsqYRcCKiM"
      },
      "execution_count": null,
      "outputs": []
    }
  ]
}